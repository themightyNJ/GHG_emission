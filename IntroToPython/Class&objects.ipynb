{
 "cells": [
  {
   "cell_type": "code",
   "execution_count": 72,
   "metadata": {},
   "outputs": [],
   "source": [
    "#Defining a class\n",
    "class student():\n",
    "    def __init__(self): #Constructor\n",
    "        self.roll_no = 1527081037\n",
    "        self.name = \"Nitish Jha\""
   ]
  },
  {
   "cell_type": "code",
   "execution_count": 73,
   "metadata": {},
   "outputs": [],
   "source": [
    "student1 = student() #Creating object of the class"
   ]
  },
  {
   "cell_type": "code",
   "execution_count": 74,
   "metadata": {},
   "outputs": [
    {
     "name": "stdout",
     "output_type": "stream",
     "text": [
      "Nitish Jha 1527081037\n"
     ]
    }
   ],
   "source": [
    "print(student1.name, student1.roll_no) #calling"
   ]
  },
  {
   "cell_type": "code",
   "execution_count": 102,
   "metadata": {},
   "outputs": [],
   "source": [
    "class car():\n",
    "    def __init__(self,color,speed):\n",
    "        self.color = color\n",
    "        self.speed = speed"
   ]
  },
  {
   "cell_type": "code",
   "execution_count": 104,
   "metadata": {},
   "outputs": [],
   "source": [
    "car1 = car(\"red\",240)\n",
    "car2 = car(\"black\",380)"
   ]
  },
  {
   "cell_type": "code",
   "execution_count": 107,
   "metadata": {},
   "outputs": [
    {
     "name": "stdout",
     "output_type": "stream",
     "text": [
      "red 240 black 380\n"
     ]
    }
   ],
   "source": [
    "print(car1.color b      ,car1.speed,car2.color,car2.speed)"
   ]
  },
  {
   "cell_type": "code",
   "execution_count": 108,
   "metadata": {},
   "outputs": [],
   "source": [
    "class animals():\n",
    "    def _init_(self,rollno):\n",
    "        self.rollno=123"
   ]
  },
  {
   "cell_type": "code",
   "execution_count": 109,
   "metadata": {},
   "outputs": [
    {
     "name": "stdout",
     "output_type": "stream",
     "text": [
      "BARK\n"
     ]
    }
   ],
   "source": [
    "class Animal():\n",
    "    def bark(self):\n",
    "        print(\"BARK\")\n",
    "an=Animal()\n",
    "an.bark()"
   ]
  },
  {
   "cell_type": "code",
   "execution_count": 110,
   "metadata": {},
   "outputs": [
    {
     "name": "stdout",
     "output_type": "stream",
     "text": [
      "('Manufac 1', 5, 'red', 3, True)\n"
     ]
    }
   ],
   "source": [
    "#use of constructors\n",
    "\n",
    "class Fan:\n",
    "    def __init__(self,make,radius,color):\n",
    "        self.make=make\n",
    "        self.radius=radius\n",
    "        self.color=color\n",
    "        self.speed=0\n",
    "        self.is_on=False\n",
    "        \n",
    "    def __repr__(self):\n",
    "        return repr((self.make,self.radius,self.color,self.speed,self.is_on))\n",
    "    def switch_on(self):\n",
    "        self.is_on= True\n",
    "        self.speed=3\n",
    "    def switch_off(self):\n",
    "        self.is_on= False\n",
    "        self.speed=0\n",
    "        \n",
    "fan = Fan(\"Manufac 1\",5 ,\"red\")\n",
    "fan.switch_on()\n",
    "print(fan)\n",
    "#fan.switch_off()\n",
    "#print(fan)"
   ]
  },
  {
   "cell_type": "code",
   "execution_count": null,
   "metadata": {},
   "outputs": [],
   "source": []
  }
 ],
 "metadata": {
  "kernelspec": {
   "display_name": "Python 3",
   "language": "python",
   "name": "python3"
  },
  "language_info": {
   "codemirror_mode": {
    "name": "ipython",
    "version": 3
   },
   "file_extension": ".py",
   "mimetype": "text/x-python",
   "name": "python",
   "nbconvert_exporter": "python",
   "pygments_lexer": "ipython3",
   "version": "3.6.4"
  }
 },
 "nbformat": 4,
 "nbformat_minor": 2
}
