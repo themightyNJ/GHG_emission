{
 "cells": [
  {
   "cell_type": "code",
   "execution_count": 91,
   "metadata": {},
   "outputs": [
    {
     "name": "stdout",
     "output_type": "stream",
     "text": [
      "[1, 2, 'str1', 'str2']\n",
      "[3, 4, 'str3', 'str4']\n"
     ]
    }
   ],
   "source": [
    "#Declaring a list\n",
    "l1 = [1,2,\"str1\",\"str2\"]\n",
    "#List function\n",
    "l2 = list([3,4,\"str3\",\"str4\"])\n",
    "print(l1)\n",
    "print(l2)"
   ]
  },
  {
   "cell_type": "code",
   "execution_count": 92,
   "metadata": {},
   "outputs": [
    {
     "data": {
      "text/plain": [
       "[1, 2, 'str1', 'str2', 1, 2, 'str1', 'str2']"
      ]
     },
     "execution_count": 92,
     "metadata": {},
     "output_type": "execute_result"
    }
   ],
   "source": [
    "#Doubling of a list\n",
    "l1*2"
   ]
  },
  {
   "cell_type": "code",
   "execution_count": 93,
   "metadata": {},
   "outputs": [
    {
     "name": "stdout",
     "output_type": "stream",
     "text": [
      "[1, 2, 'str1', 'str2', 3, 4, 'str3', 'str4']\n"
     ]
    }
   ],
   "source": [
    "#Adding lists\n",
    "print(l1+l2)"
   ]
  },
  {
   "cell_type": "code",
   "execution_count": 94,
   "metadata": {},
   "outputs": [
    {
     "name": "stdout",
     "output_type": "stream",
     "text": [
      "1\n",
      "[3, 4]\n",
      "[3, 'str3']\n"
     ]
    }
   ],
   "source": [
    "#Accessing list items\n",
    "print(l1[0]) #Accessing Single item\n",
    "print(l2[0:2]) #Accessing multiple items\n",
    "print(l2[0:4:2]) #Accessing multiple items with steps"
   ]
  },
  {
   "cell_type": "code",
   "execution_count": 95,
   "metadata": {},
   "outputs": [
    {
     "name": "stdout",
     "output_type": "stream",
     "text": [
      "['x', 2, 'str1', 'str2']\n"
     ]
    }
   ],
   "source": [
    "#Changing list item\n",
    "l1[0]=\"x\"\n",
    "print(l1)"
   ]
  },
  {
   "cell_type": "code",
   "execution_count": 96,
   "metadata": {},
   "outputs": [
    {
     "name": "stdout",
     "output_type": "stream",
     "text": [
      "x\n",
      "2\n",
      "str1\n",
      "str2\n"
     ]
    }
   ],
   "source": [
    "#Loop for a list\n",
    "for i in l1: #for loop\n",
    "    print(i)"
   ]
  },
  {
   "cell_type": "code",
   "execution_count": 97,
   "metadata": {},
   "outputs": [
    {
     "name": "stdout",
     "output_type": "stream",
     "text": [
      "Yes,item is present\n"
     ]
    }
   ],
   "source": [
    "#Checking if any item is present in a list\n",
    "if 2 in l1:\n",
    "    print(\"Yes,item is present\")"
   ]
  },
  {
   "cell_type": "code",
   "execution_count": 98,
   "metadata": {},
   "outputs": [
    {
     "name": "stdout",
     "output_type": "stream",
     "text": [
      "4\n"
     ]
    }
   ],
   "source": [
    "#Finding the length of a list\n",
    "print(len(l2))"
   ]
  },
  {
   "cell_type": "code",
   "execution_count": 99,
   "metadata": {},
   "outputs": [
    {
     "name": "stdout",
     "output_type": "stream",
     "text": [
      "[3, 4, 'str3', 'str4', 'hi']\n"
     ]
    }
   ],
   "source": [
    "#Adding item in a list\n",
    "l2.append(\"hi\")\n",
    "print(l2)"
   ]
  },
  {
   "cell_type": "code",
   "execution_count": 100,
   "metadata": {},
   "outputs": [
    {
     "name": "stdout",
     "output_type": "stream",
     "text": [
      "[3, 4, 'str5', 'str3', 'str4', 'hi']\n"
     ]
    }
   ],
   "source": [
    "#Inserting an item at a particular index\n",
    "l2.insert(2,\"str5\")\n",
    "print(l2)"
   ]
  },
  {
   "cell_type": "code",
   "execution_count": 101,
   "metadata": {},
   "outputs": [
    {
     "name": "stdout",
     "output_type": "stream",
     "text": [
      "[3, 4, 'str5', 'str3', 'str4']\n",
      "[3, 4, 'str3', 'str4']\n",
      "[4, 'str3', 'str4']\n",
      "[]\n"
     ]
    }
   ],
   "source": [
    "#Removing an item\n",
    "l2.pop() #if no index given, removes the last item\n",
    "print(l2)\n",
    "#Removing an item using the item data\n",
    "l2.remove(\"str5\")\n",
    "print(l2)\n",
    "#Removing item from a specified index\n",
    "del l2[0]\n",
    "print(l2)\n",
    "#Deleting the whole list\n",
    "del l2\n",
    "#Removing all the items from a list\n",
    "l1.clear()\n",
    "print(l1)"
   ]
  },
  {
   "cell_type": "code",
   "execution_count": 104,
   "metadata": {},
   "outputs": [
    {
     "name": "stdout",
     "output_type": "stream",
     "text": [
      "[1, 2, 3, 4]\n",
      "[1, 2, 3, 4]\n",
      "[1, 2, 3, 4]\n"
     ]
    }
   ],
   "source": [
    "l1=[1,2,3,4]\n",
    "print(l1)\n",
    "#Copying a list\n",
    "l2 = l1.copy()\n",
    "print(l2)\n",
    "#or\n",
    "l3 = list(l1)\n",
    "print(l3)"
   ]
  },
  {
   "cell_type": "code",
   "execution_count": 105,
   "metadata": {},
   "outputs": [
    {
     "name": "stdout",
     "output_type": "stream",
     "text": [
      "2\n"
     ]
    }
   ],
   "source": [
    "#Finding index of an item\n",
    "x = l1.index(3)\n",
    "print(x)"
   ]
  },
  {
   "cell_type": "code",
   "execution_count": 106,
   "metadata": {},
   "outputs": [
    {
     "name": "stdout",
     "output_type": "stream",
     "text": [
      "1\n"
     ]
    }
   ],
   "source": [
    "#Counting the number of occurance of an item inside the tuple\n",
    "y = l2.count(4)\n",
    "print(y)"
   ]
  },
  {
   "cell_type": "code",
   "execution_count": 117,
   "metadata": {},
   "outputs": [
    {
     "name": "stdout",
     "output_type": "stream",
     "text": [
      "['A', 'B', 'C']\n",
      "['C', 'B', 'A']\n"
     ]
    }
   ],
   "source": [
    "#Reversing a list\n",
    "r = [\"A\",\"B\",\"C\"]\n",
    "print(r)\n",
    "r.reverse()\n",
    "print(r)"
   ]
  },
  {
   "cell_type": "code",
   "execution_count": 118,
   "metadata": {},
   "outputs": [
    {
     "name": "stdout",
     "output_type": "stream",
     "text": [
      "['A', 'B', 'C']\n"
     ]
    }
   ],
   "source": [
    "#Sorting a list\n",
    "r.sort()\n",
    "print(r)"
   ]
  },
  {
   "cell_type": "code",
   "execution_count": 121,
   "metadata": {},
   "outputs": [
    {
     "name": "stdout",
     "output_type": "stream",
     "text": [
      "[1, 2, 3]\n",
      "[4, 5, 6]\n",
      "[1, 2, 3, 4, 5, 6]\n"
     ]
    }
   ],
   "source": [
    "#Extending a list\n",
    "a,b = [1,2,3],[4,5,6]\n",
    "print(a)\n",
    "print(b)\n",
    "a.extend(b)\n",
    "print(a)"
   ]
  },
  {
   "cell_type": "code",
   "execution_count": null,
   "metadata": {},
   "outputs": [],
   "source": []
  }
 ],
 "metadata": {
  "kernelspec": {
   "display_name": "Python 3",
   "language": "python",
   "name": "python3"
  },
  "language_info": {
   "codemirror_mode": {
    "name": "ipython",
    "version": 3
   },
   "file_extension": ".py",
   "mimetype": "text/x-python",
   "name": "python",
   "nbconvert_exporter": "python",
   "pygments_lexer": "ipython3",
   "version": "3.6.4"
  }
 },
 "nbformat": 4,
 "nbformat_minor": 2
}
