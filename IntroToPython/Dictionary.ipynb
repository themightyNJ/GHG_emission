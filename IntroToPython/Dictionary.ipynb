{
 "cells": [
  {
   "cell_type": "code",
   "execution_count": 29,
   "metadata": {},
   "outputs": [
    {
     "name": "stdout",
     "output_type": "stream",
     "text": [
      "{'key1': 'value1', 'key2': 'value2', 'key3': 'value3'}\n",
      "{10: 4, 11: 5, 'key4': 6, 'key5': 7}\n",
      "{1: 1, 2: 2}\n"
     ]
    }
   ],
   "source": [
    "#Declaring a dictionary\n",
    "d1 = {\"key1\":\"value1\",\"key2\":\"value2\",\"key3\":\"value3\"}\n",
    "#or\n",
    "d2 = {10: 4, 11: 5,\"key4\": 6,\"key5\": 7}\n",
    "#Dict function\n",
    "d3 = dict({1:1,2:2})\n",
    "print(d1)\n",
    "print(d2)\n",
    "print(d3)"
   ]
  },
  {
   "cell_type": "code",
   "execution_count": 30,
   "metadata": {},
   "outputs": [
    {
     "name": "stdout",
     "output_type": "stream",
     "text": [
      "key of d3 1\n",
      "key of d3 2\n",
      "keys of d2 10\n",
      "keys of d2 11\n",
      "keys of d2 key4\n",
      "keys of d2 key5\n",
      "Items in d1 ('key1', 'value1')\n",
      "Items in d1 ('key2', 'value2')\n",
      "Items in d1 ('key3', 'value3')\n",
      "d1 =  key1 value1\n",
      "d1 =  key2 value2\n",
      "d1 =  key3 value3\n",
      "Dict d1 = key1 value1\n",
      "Dict d1 = key2 value2\n",
      "Dict d1 = key3 value3\n"
     ]
    }
   ],
   "source": [
    "#For loop for Dict \n",
    "#By default it returns keys\n",
    "for i in d3:\n",
    "    print(\"key of d3\",i)\n",
    "#For key \n",
    "for j in d2.keys():\n",
    "    print(\"keys of d2\",j)\n",
    "#For items\n",
    "for k in d1.items():\n",
    "    print(\"Items in d1\",k)\n",
    "#Or\n",
    "for x,y in d1.items():\n",
    "    print(\"d1 = \",x,y)\n",
    "#Or\n",
    "for z in d1:\n",
    "    print(\"Dict d1 =\",z,d1[z])"
   ]
  },
  {
   "cell_type": "code",
   "execution_count": 31,
   "metadata": {},
   "outputs": [
    {
     "name": "stdout",
     "output_type": "stream",
     "text": [
      "{10: 4, 11: 5, 'key4': 6}\n",
      "{10: 4, 11: 5}\n"
     ]
    }
   ],
   "source": [
    "#Removing an item\n",
    "d2.pop(\"key5\")\n",
    "print(d2)\n",
    "#Removing last item\n",
    "d2.popitem()\n",
    "print(d2)"
   ]
  },
  {
   "cell_type": "code",
   "execution_count": 32,
   "metadata": {},
   "outputs": [],
   "source": [
    "#Deleting the dict\n",
    "del d3"
   ]
  },
  {
   "cell_type": "code",
   "execution_count": 34,
   "metadata": {},
   "outputs": [
    {
     "name": "stdout",
     "output_type": "stream",
     "text": [
      "2\n"
     ]
    }
   ],
   "source": [
    "#Finding the number of items in dict\n",
    "print(len(d2))"
   ]
  },
  {
   "cell_type": "code",
   "execution_count": 37,
   "metadata": {},
   "outputs": [
    {
     "name": "stdout",
     "output_type": "stream",
     "text": [
      "dict_keys(['key1', 'key2', 'key3'])\n",
      "dict_values(['value1', 'value2', 'value3'])\n"
     ]
    }
   ],
   "source": [
    "#Getting all the keys from a dict\n",
    "print(d1.keys())\n",
    "#Getting all the values from a dict\n",
    "print(d1.values())"
   ]
  },
  {
   "cell_type": "code",
   "execution_count": 38,
   "metadata": {},
   "outputs": [
    {
     "name": "stdout",
     "output_type": "stream",
     "text": [
      "{'key1': 'value1', 'key2': 'value2', 'key3': 'value3', 'key11': 11}\n"
     ]
    }
   ],
   "source": [
    "#Adding a new element\n",
    "d1[\"key11\"]=11\n",
    "print(d1)"
   ]
  },
  {
   "cell_type": "code",
   "execution_count": 40,
   "metadata": {},
   "outputs": [
    {
     "name": "stdout",
     "output_type": "stream",
     "text": [
      "Dict d1 original {'key1': 'value1', 'key2': 'value2', 'key3': 'value3', 'key11': 11}\n",
      "Dict d2 original {10: 4, 11: 5}\n",
      "Dict d3, copy of d1 {'key1': 'value1', 'key2': 'value2', 'key3': 'value3', 'key11': 11}\n",
      "Dict d4, copy of d2 {10: 4, 11: 5}\n"
     ]
    }
   ],
   "source": [
    "#Copying a dict aka Deep Copy\n",
    "d3 = d1.copy()\n",
    "#or\n",
    "d4 = dict(d2)\n",
    "print(\"Dict d1 original\",d1)\n",
    "print(\"Dict d2 original\",d2)\n",
    "print(\"Dict d3, copy of d1\",d3)\n",
    "print(\"Dict d4, copy of d2\",d4)"
   ]
  },
  {
   "cell_type": "code",
   "execution_count": 41,
   "metadata": {},
   "outputs": [
    {
     "name": "stdout",
     "output_type": "stream",
     "text": [
      "Dict d1, Original {'key1': 'value1', 'key2': 'value2', 'key3': 'value3', 'key11': 11, 'update': 1001}\n",
      "Dict d5, Reference Copy of d1 {'key1': 'value1', 'key2': 'value2', 'key3': 'value3', 'key11': 11, 'update': 1001}\n",
      "Dict d3, Deep copy od d1 {'key1': 'value1', 'key2': 'value2', 'key3': 'value3', 'key11': 11}\n"
     ]
    }
   ],
   "source": [
    "#Difference between Copy and Assigning\n",
    "#Assigning a list to another aka Reference Copy\n",
    "d5=d1\n",
    "#Now if we update either of the dict i.e. d1 or d5, changes will occur in both\n",
    "#Because in reference Memory location remains the same\n",
    "#whereas in deep copy a new memory location is created where the copied data is stored\n",
    "# For Example\n",
    "d1[\"update\"]=1001\n",
    "print(\"Dict d1, Original\", d1)\n",
    "print(\"Dict d5, Reference Copy of d1\", d5)\n",
    "print(\"Dict d3, Deep copy od d1\", d3)"
   ]
  },
  {
   "cell_type": "code",
   "execution_count": 42,
   "metadata": {},
   "outputs": [
    {
     "name": "stdout",
     "output_type": "stream",
     "text": [
      "{'key1': 'value1', 'key2': 'value2', 'key3': 'value3', 'key11': 1100}\n"
     ]
    }
   ],
   "source": [
    "#Updating a value of a key\n",
    "d3[\"key11\"]=1100\n",
    "print(d3)"
   ]
  },
  {
   "cell_type": "code",
   "execution_count": 43,
   "metadata": {},
   "outputs": [
    {
     "name": "stdout",
     "output_type": "stream",
     "text": [
      "{}\n"
     ]
    }
   ],
   "source": [
    "#Clearing values from a Dict\n",
    "d3.clear()\n",
    "print(d3)"
   ]
  },
  {
   "cell_type": "code",
   "execution_count": 45,
   "metadata": {},
   "outputs": [
    {
     "name": "stdout",
     "output_type": "stream",
     "text": [
      "<class 'dict'>\n"
     ]
    }
   ],
   "source": [
    "#Determining type\n",
    "print(type(d1))"
   ]
  },
  {
   "cell_type": "code",
   "execution_count": 54,
   "metadata": {},
   "outputs": [
    {
     "name": "stdout",
     "output_type": "stream",
     "text": [
      "{'id': None, 'sal': None}\n",
      "{'id': 100, 'sal': 100}\n",
      "{'id': None, 'sal': None}\n",
      "{'id': 100, 'sal': 100}\n",
      "{'key1': 'value1', 'key2': 'value2', 'key3': 'value3', 'key11': 11, 'update': 1001}\n"
     ]
    }
   ],
   "source": [
    "#Creating default dict\n",
    "n=[\"id\",\"sal\"]\n",
    "m=100\n",
    "#taking refrence from predefined dict or dict function\n",
    "#Original dict remains same\n",
    "print(d1.fromkeys(n)) #Creates a dict with none values and n(defined above) keys\n",
    "print(d1.fromkeys(n,m)) #Creates a dict with n keys and m values\n",
    "print(dict.fromkeys(n)) #Creates a dict with none values and 'n' list(defined above) keys using dict function\n",
    "print(dict.fromkeys(n,m)) #Creates a dict with 'n' keys and 'm' values using dict function\n",
    "print(d1) #d1 is unchanged"
   ]
  },
  {
   "cell_type": "code",
   "execution_count": 57,
   "metadata": {},
   "outputs": [
    {
     "name": "stdout",
     "output_type": "stream",
     "text": [
      "{'Name': ['N', 'S', 'E', 'J'], 'Salary': [0.01, 0.01, 0.01, 0.01]}\n"
     ]
    }
   ],
   "source": [
    "#Using List in Dict\n",
    "ordict=dict()\n",
    "ename=[\"N\",\"S\",\"E\",\"J\"]\n",
    "salary=[0.01,0.01,0.01,0.01]\n",
    "ordict[\"Name\"]=ename\n",
    "ordict[\"Salary\"]=salary\n",
    "print(ordict)"
   ]
  },
  {
   "cell_type": "code",
   "execution_count": 58,
   "metadata": {},
   "outputs": [
    {
     "name": "stdout",
     "output_type": "stream",
     "text": [
      "{'Name': ['N', 'S', 'E', 'J'], 'Salary': [0.01, 0.01, 0.01, 0.01], '1': 'hello 0', '2': 'hello 1'}\n"
     ]
    }
   ],
   "source": [
    "#Combining 2 dicts\n",
    "dict1 = {\"1\":\"hello 0\",\"2\":\"hello 1\"}\n",
    "ordict.update(dict1)\n",
    "print(ordict)"
   ]
  },
  {
   "cell_type": "code",
   "execution_count": 62,
   "metadata": {},
   "outputs": [
    {
     "name": "stdout",
     "output_type": "stream",
     "text": [
      "hello 0\n"
     ]
    }
   ],
   "source": [
    "#Getting a value of a key\n",
    "print(dict1.get(\"1\"))"
   ]
  },
  {
   "cell_type": "code",
   "execution_count": null,
   "metadata": {},
   "outputs": [],
   "source": []
  }
 ],
 "metadata": {
  "kernelspec": {
   "display_name": "Python 3",
   "language": "python",
   "name": "python3"
  },
  "language_info": {
   "codemirror_mode": {
    "name": "ipython",
    "version": 3
   },
   "file_extension": ".py",
   "mimetype": "text/x-python",
   "name": "python",
   "nbconvert_exporter": "python",
   "pygments_lexer": "ipython3",
   "version": "3.6.4"
  }
 },
 "nbformat": 4,
 "nbformat_minor": 2
}
