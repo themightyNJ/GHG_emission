{
 "cells": [
  {
   "cell_type": "code",
   "execution_count": 8,
   "metadata": {},
   "outputs": [
    {
     "name": "stdout",
     "output_type": "stream",
     "text": [
      "(1, 2, 'str1', 'str2')\n",
      "(3, 4, 'str3', 'str4')\n",
      "(5, 6, 'str5', 'str6')\n"
     ]
    }
   ],
   "source": [
    "#Declaring a tuple\n",
    "t1=(1,2,\"str1\",\"str2\")\n",
    "#Or it can be declared as following\n",
    "t2=3,4,\"str3\",\"str4\"\n",
    "#Tuple function\n",
    "t3=tuple((5,6,\"str5\",\"str6\"))\n",
    "print(t1)\n",
    "print(t2)\n",
    "print(t3)"
   ]
  },
  {
   "cell_type": "code",
   "execution_count": 9,
   "metadata": {},
   "outputs": [
    {
     "name": "stdout",
     "output_type": "stream",
     "text": [
      "(1, 2, 'str1', 'str2')\n"
     ]
    }
   ],
   "source": [
    "#Dublicating a tuple\n",
    "t1*2\n",
    "print(t1)"
   ]
  },
  {
   "cell_type": "code",
   "execution_count": 10,
   "metadata": {},
   "outputs": [
    {
     "name": "stdout",
     "output_type": "stream",
     "text": [
      "(1, 2, 'str1', 'str2', 3, 4, 'str3', 'str4')\n"
     ]
    }
   ],
   "source": [
    "#Adding Tuples\n",
    "print(t1+t2)"
   ]
  },
  {
   "cell_type": "code",
   "execution_count": 17,
   "metadata": {},
   "outputs": [
    {
     "name": "stdout",
     "output_type": "stream",
     "text": [
      "1\n",
      "(3, 4)\n",
      "(5, 'str5')\n"
     ]
    }
   ],
   "source": [
    "#Accessing tuple items\n",
    "print(t1[0]) #Accessing Single item\n",
    "print(t2[0:2]) #Accessing multiple items\n",
    "print(t3[0:4:2]) #Accessing multiple items with steps"
   ]
  },
  {
   "cell_type": "code",
   "execution_count": 19,
   "metadata": {},
   "outputs": [
    {
     "name": "stdout",
     "output_type": "stream",
     "text": [
      "1\n",
      "2\n",
      "str1\n",
      "str2\n"
     ]
    }
   ],
   "source": [
    "#Loop for a tuple\n",
    "for i in t1: #for loop\n",
    "    print(i)"
   ]
  },
  {
   "cell_type": "code",
   "execution_count": 20,
   "metadata": {},
   "outputs": [
    {
     "name": "stdout",
     "output_type": "stream",
     "text": [
      "Yes,item is present\n"
     ]
    }
   ],
   "source": [
    "#Checking if any item is present in a tuple\n",
    "if 2 in t1:\n",
    "    print(\"Yes,item is present\")"
   ]
  },
  {
   "cell_type": "code",
   "execution_count": 21,
   "metadata": {},
   "outputs": [
    {
     "name": "stdout",
     "output_type": "stream",
     "text": [
      "4\n"
     ]
    }
   ],
   "source": [
    "#Finding the length of a tuple\n",
    "print(len(t3))"
   ]
  },
  {
   "cell_type": "code",
   "execution_count": 22,
   "metadata": {},
   "outputs": [
    {
     "name": "stdout",
     "output_type": "stream",
     "text": [
      "2\n"
     ]
    }
   ],
   "source": [
    "#Finding index of an item\n",
    "x = t1.index(\"str1\")\n",
    "print(x)"
   ]
  },
  {
   "cell_type": "code",
   "execution_count": 24,
   "metadata": {},
   "outputs": [
    {
     "name": "stdout",
     "output_type": "stream",
     "text": [
      "1\n"
     ]
    }
   ],
   "source": [
    "#Counting the number of occurance of an item inside the tuple\n",
    "y = t2.count(4)\n",
    "print(y)"
   ]
  },
  {
   "cell_type": "code",
   "execution_count": null,
   "metadata": {},
   "outputs": [],
   "source": []
  }
 ],
 "metadata": {
  "kernelspec": {
   "display_name": "Python 3",
   "language": "python",
   "name": "python3"
  },
  "language_info": {
   "codemirror_mode": {
    "name": "ipython",
    "version": 3
   },
   "file_extension": ".py",
   "mimetype": "text/x-python",
   "name": "python",
   "nbconvert_exporter": "python",
   "pygments_lexer": "ipython3",
   "version": "3.6.4"
  }
 },
 "nbformat": 4,
 "nbformat_minor": 2
}
